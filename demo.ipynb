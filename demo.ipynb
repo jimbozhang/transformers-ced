{
 "cells": [
  {
   "cell_type": "markdown",
   "metadata": {},
   "source": [
    "此 ipynb 文件只用于内部演示，往 GitHub 提 PR 前会删除。"
   ]
  },
  {
   "cell_type": "code",
   "execution_count": 1,
   "metadata": {},
   "outputs": [],
   "source": [
    "model_name = 'ced-mini'  # ['ced-tiny', 'ced-mini', 'ced-small', 'ced-base']"
   ]
  },
  {
   "cell_type": "code",
   "execution_count": null,
   "metadata": {},
   "outputs": [],
   "source": [
    "# Convert checkpoint from original CED to 🤗 Transformers format\n",
    "from transformers.models.ced.convert_ced_original_to_pytorch import convert_ced_checkpoint\n",
    "\n",
    "model_saved_path = f'/home/zhangjunbo/sandbox/{model_name}'\n",
    "convert_ced_checkpoint(model_name, model_saved_path)"
   ]
  },
  {
   "cell_type": "code",
   "execution_count": 3,
   "metadata": {},
   "outputs": [],
   "source": [
    "import torch\n",
    "import torchaudio\n",
    "\n",
    "from transformers import CedConfig, CedForAudioClassification"
   ]
  },
  {
   "cell_type": "code",
   "execution_count": null,
   "metadata": {},
   "outputs": [],
   "source": [
    "config = CedConfig(model_name)\n",
    "\n",
    "DEVICE = torch.device('cpu' if not torch.cuda.is_available() else 'cuda')\n",
    "\n",
    "model = CedForAudioClassification(config).from_pretrained(model_saved_path).to(DEVICE).eval()"
   ]
  },
  {
   "cell_type": "code",
   "execution_count": null,
   "metadata": {},
   "outputs": [],
   "source": [
    "wavpath = '/home/zhangjunbo/src/CED/resources/JeD5V5aaaoI_931_932.wav'\n",
    "wave, _ = torchaudio.load(wavpath)\n",
    "wave = wave.to(DEVICE)\n",
    "\n",
    "output = model(wave).squeeze(0)\n",
    "output, output.shape"
   ]
  },
  {
   "cell_type": "code",
   "execution_count": 6,
   "metadata": {},
   "outputs": [],
   "source": [
    "import pandas as pd\n",
    "\n",
    "label_maps = pd.read_csv('http://storage.googleapis.com/us_audioset/youtube_corpus/v1/csv/class_labels_indices.csv').set_index('index')['display_name'].to_dict()"
   ]
  },
  {
   "cell_type": "code",
   "execution_count": 7,
   "metadata": {},
   "outputs": [
    {
     "name": "stdout",
     "output_type": "stream",
     "text": [
      "Topk-1 Finger snapping                0.8888\n",
      "Topk-2 Slap, smack                    0.1020\n",
      "Topk-3 Inside, small room             0.0365\n"
     ]
    }
   ],
   "source": [
    "topk = 3\n",
    "\n",
    "for k, (prob, label) in enumerate(zip(*output.topk(topk))):\n",
    "    lab_idx = label.item()\n",
    "    label_name = label_maps[lab_idx]\n",
    "    print(f\"Topk-{k+1} {label_name:<30} {prob:.4f}\")"
   ]
  }
 ],
 "metadata": {
  "kernelspec": {
   "display_name": "venv",
   "language": "python",
   "name": "python3"
  },
  "language_info": {
   "codemirror_mode": {
    "name": "ipython",
    "version": 3
   },
   "file_extension": ".py",
   "mimetype": "text/x-python",
   "name": "python",
   "nbconvert_exporter": "python",
   "pygments_lexer": "ipython3",
   "version": "3.11.2"
  }
 },
 "nbformat": 4,
 "nbformat_minor": 2
}

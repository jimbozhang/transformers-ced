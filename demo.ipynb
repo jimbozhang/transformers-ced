{
 "cells": [
  {
   "cell_type": "markdown",
   "metadata": {},
   "source": [
    "此 ipynb 文件只用于内部演示，往 GitHub 提 PR 前会删除。"
   ]
  },
  {
   "cell_type": "code",
   "execution_count": 1,
   "metadata": {},
   "outputs": [],
   "source": [
    "model_name = 'ced-tiny'  # ['ced-tiny', 'ced-mini', 'ced-small', 'ced-base']"
   ]
  },
  {
   "cell_type": "code",
   "execution_count": 2,
   "metadata": {},
   "outputs": [
    {
     "name": "stderr",
     "output_type": "stream",
     "text": [
      "Saving model ced-tiny to /home/zhangjunbo/sandbox/ced-tiny\n",
      "Configuration saved in /home/zhangjunbo/sandbox/ced-tiny/config.json\n",
      "Model weights saved in /home/zhangjunbo/sandbox/ced-tiny/pytorch_model.bin\n"
     ]
    }
   ],
   "source": [
    "# Convert checkpoint from original CED to 🤗 Transformers format\n",
    "from transformers.models.ced.convert_ced_original_to_pytorch import convert_ced_checkpoint\n",
    "\n",
    "model_saved_path = f'/home/zhangjunbo/sandbox/{model_name}'\n",
    "convert_ced_checkpoint(model_name, model_saved_path)"
   ]
  },
  {
   "cell_type": "code",
   "execution_count": 3,
   "metadata": {},
   "outputs": [],
   "source": [
    "import torch\n",
    "import torchaudio\n",
    "\n",
    "from transformers import CedConfig, CedForAudioClassification"
   ]
  },
  {
   "cell_type": "code",
   "execution_count": 4,
   "metadata": {},
   "outputs": [
    {
     "name": "stderr",
     "output_type": "stream",
     "text": [
      "loading configuration file /home/zhangjunbo/sandbox/ced-tiny/config.json\n",
      "Model config CedConfig {\n",
      "  \"architectures\": [\n",
      "    \"CedForAudioClassification\"\n",
      "  ],\n",
      "  \"attn_drop_rate\": 0.0,\n",
      "  \"center\": true,\n",
      "  \"depth\": 12,\n",
      "  \"drop_path_rate\": 0.0,\n",
      "  \"drop_rate\": 0.0,\n",
      "  \"embed_dim\": 192,\n",
      "  \"eval_avg\": \"mean\",\n",
      "  \"f_max\": 8000,\n",
      "  \"f_min\": 0,\n",
      "  \"freq_patch_out\": null,\n",
      "  \"hop_size\": 160,\n",
      "  \"init_values\": null,\n",
      "  \"mlp_ratio\": 4,\n",
      "  \"n_fft\": 512,\n",
      "  \"n_mels\": 64,\n",
      "  \"num_heads\": 3,\n",
      "  \"outputdim\": 527,\n",
      "  \"pad_last\": true,\n",
      "  \"patch_size\": 16,\n",
      "  \"patch_stride\": 16,\n",
      "  \"pooling\": \"mean\",\n",
      "  \"qkv_bias\": true,\n",
      "  \"target_length\": 1012,\n",
      "  \"time_patch_out\": null,\n",
      "  \"torch_dtype\": \"float32\",\n",
      "  \"transformers_version\": \"4.34.0.dev0\",\n",
      "  \"win_size\": 512\n",
      "}\n",
      "\n",
      "loading weights file /home/zhangjunbo/sandbox/ced-tiny/pytorch_model.bin\n",
      "All model checkpoint weights were used when initializing CedForAudioClassification.\n",
      "\n",
      "All the weights of CedForAudioClassification were initialized from the model checkpoint at /home/zhangjunbo/sandbox/ced-tiny.\n",
      "If your task is similar to the task the model of the checkpoint was trained on, you can already use CedForAudioClassification for predictions without further training.\n"
     ]
    }
   ],
   "source": [
    "config = CedConfig(model_name)\n",
    "\n",
    "DEVICE = torch.device('cpu' if not torch.cuda.is_available() else 'cuda')\n",
    "\n",
    "model = CedForAudioClassification(config).from_pretrained(model_saved_path).to(DEVICE).eval()"
   ]
  },
  {
   "cell_type": "code",
   "execution_count": 5,
   "metadata": {},
   "outputs": [
    {
     "data": {
      "text/plain": [
       "(tensor([1.6634e-03, 2.4463e-06, 2.9823e-07, 6.8086e-06, 5.7273e-09, 8.1335e-08,\n",
       "         4.9931e-08, 1.0461e-07, 1.4798e-07, 1.0917e-07, 4.1153e-08, 1.4385e-08,\n",
       "         3.5703e-08, 5.1580e-08, 4.3297e-08, 4.6092e-06, 5.3620e-08, 1.1018e-09,\n",
       "         7.4081e-09, 1.2820e-09, 8.4438e-10, 8.2419e-09, 2.8360e-09, 2.6361e-09,\n",
       "         4.8369e-08, 1.5871e-08, 6.5814e-07, 2.0008e-05, 9.4825e-06, 3.7283e-07,\n",
       "         8.1454e-07, 5.5333e-06, 6.1662e-06, 1.2079e-06, 4.3939e-06, 1.3350e-06,\n",
       "         2.3900e-07, 2.1458e-06, 3.2378e-07, 1.9709e-08, 3.5626e-04, 6.7121e-06,\n",
       "         1.0083e-08, 1.2805e-06, 8.9587e-09, 2.2213e-06, 7.1053e-08, 9.1160e-09,\n",
       "         1.5431e-09, 4.4430e-08, 9.0836e-07, 2.1307e-06, 1.3497e-05, 1.5031e-07,\n",
       "         1.5489e-05, 6.8523e-07, 9.4678e-12, 4.4639e-06, 2.2572e-07, 1.0208e-07,\n",
       "         5.8349e-06, 9.1606e-04, 8.8881e-01, 5.1715e-03, 1.9166e-05, 4.8840e-06,\n",
       "         1.2344e-07, 9.2997e-05, 3.0151e-10, 1.0034e-06, 1.9051e-08, 1.2646e-08,\n",
       "         4.3000e-03, 2.8627e-03, 4.2397e-04, 1.0722e-05, 2.0780e-06, 2.5226e-07,\n",
       "         1.3151e-05, 3.9778e-07, 3.6035e-06, 3.3272e-05, 2.3221e-06, 4.6353e-06,\n",
       "         8.1513e-07, 3.2468e-08, 5.5277e-07, 2.4345e-05, 1.3355e-05, 2.8533e-07,\n",
       "         9.4270e-08, 4.4961e-08, 1.8225e-07, 1.7098e-05, 3.1121e-06, 1.1005e-07,\n",
       "         8.3652e-09, 3.1415e-08, 1.0791e-05, 2.1468e-06, 7.6885e-08, 7.5331e-08,\n",
       "         9.0033e-07, 3.4402e-07, 8.0132e-07, 3.4602e-07, 9.0538e-08, 1.0666e-07,\n",
       "         2.6799e-07, 1.3630e-08, 7.7380e-08, 2.4959e-02, 5.3193e-03, 2.4155e-03,\n",
       "         1.0054e-05, 1.1336e-04, 5.7356e-05, 6.4855e-07, 6.3269e-08, 1.4970e-06,\n",
       "         1.4709e-08, 4.1533e-06, 9.3956e-06, 4.1654e-05, 1.4412e-06, 2.1116e-04,\n",
       "         4.8616e-04, 2.0791e-05, 3.0911e-05, 1.2139e-05, 1.2965e-07, 5.6181e-06,\n",
       "         4.1386e-06, 3.7373e-08, 2.7743e-06, 2.0725e-03, 3.1794e-08, 2.4937e-02,\n",
       "         1.6848e-03, 5.3077e-07, 2.0351e-06, 4.1574e-09, 8.4042e-09, 1.6899e-09,\n",
       "         1.3007e-08, 3.2756e-09, 1.3988e-09, 4.4055e-09, 1.1705e-06, 1.5701e-08,\n",
       "         7.0163e-08, 1.2984e-07, 1.7136e-05, 9.0025e-06, 2.4670e-06, 3.2501e-06,\n",
       "         2.2005e-06, 2.0154e-07, 6.4166e-04, 8.2281e-06, 3.3586e-07, 1.5656e-03,\n",
       "         2.6774e-05, 7.5446e-04, 2.6628e-04, 4.1723e-06, 4.4062e-07, 3.5470e-07,\n",
       "         7.7471e-06, 6.0430e-06, 1.9440e-06, 9.6639e-07, 6.4551e-07, 9.1918e-03,\n",
       "         1.4700e-06, 1.8679e-05, 6.0577e-06, 1.0627e-05, 1.4278e-05, 3.1636e-03,\n",
       "         1.2322e-02, 4.2137e-03, 5.1899e-05, 3.4821e-07, 9.1520e-07, 5.7559e-07,\n",
       "         7.6052e-09, 7.6119e-08, 2.7110e-08, 9.2622e-07, 5.3816e-09, 3.3851e-07,\n",
       "         1.9321e-07, 1.5017e-07, 6.2128e-08, 1.3509e-06, 1.8278e-06, 5.6974e-09,\n",
       "         1.3851e-07, 1.7083e-07, 4.0014e-04, 6.7963e-06, 4.6904e-05, 1.5914e-06,\n",
       "         6.0171e-06, 5.5739e-04, 1.9305e-04, 7.7005e-07, 1.7406e-07, 4.6603e-07,\n",
       "         9.1116e-09, 2.1068e-06, 6.2733e-09, 8.1099e-06, 9.3644e-06, 3.3454e-05,\n",
       "         9.6156e-09, 1.8731e-06, 4.9901e-04, 1.6322e-07, 3.0939e-08, 6.6903e-08,\n",
       "         5.2406e-09, 1.0833e-08, 8.2410e-06, 2.6896e-08, 4.8503e-07, 3.5007e-07,\n",
       "         1.2968e-06, 3.0525e-07, 2.1188e-07, 5.6873e-09, 1.2127e-07, 2.5056e-07,\n",
       "         2.7369e-07, 3.4159e-08, 2.2441e-07, 2.9218e-05, 7.7627e-06, 4.3738e-05,\n",
       "         3.0024e-06, 3.2031e-06, 1.8960e-06, 2.9894e-08, 3.7106e-06, 1.1879e-06,\n",
       "         4.5302e-06, 1.7971e-07, 9.4702e-07, 6.9143e-08, 1.5299e-06, 4.2686e-09,\n",
       "         1.0824e-05, 2.0361e-06, 2.1191e-04, 2.4727e-05, 2.9427e-08, 1.4160e-08,\n",
       "         9.6399e-07, 1.4386e-06, 7.1798e-08, 6.0756e-06, 5.3047e-07, 3.2562e-08,\n",
       "         2.7262e-07, 6.2453e-08, 3.7149e-07, 2.9450e-08, 2.6297e-07, 2.4589e-06,\n",
       "         5.4006e-07, 2.6327e-05, 3.1215e-07, 8.2730e-06, 1.4628e-07, 4.1861e-09,\n",
       "         1.5224e-07, 8.5621e-08, 1.2667e-06, 4.6011e-06, 2.2888e-08, 1.1884e-08,\n",
       "         3.1294e-07, 1.2569e-04, 1.9486e-06, 5.8556e-05, 4.5856e-07, 2.6351e-07,\n",
       "         1.2017e-05, 6.6428e-05, 3.8359e-05, 1.0654e-04, 2.4678e-07, 1.3226e-07,\n",
       "         1.4788e-05, 8.7833e-06, 2.1830e-06, 7.6560e-06, 1.6141e-03, 8.5188e-05,\n",
       "         5.7818e-03, 4.6801e-04, 1.2316e-06, 9.3148e-07, 2.9458e-05, 3.4531e-05,\n",
       "         2.1867e-05, 4.0385e-04, 3.6680e-05, 2.2722e-06, 3.7271e-06, 2.1792e-08,\n",
       "         1.3668e-06, 1.7569e-06, 6.6108e-06, 1.1653e-05, 1.1800e-04, 3.3152e-04,\n",
       "         1.6863e-06, 4.0557e-05, 1.8628e-06, 1.8006e-05, 1.1528e-06, 3.3002e-07,\n",
       "         2.9790e-08, 6.8340e-07, 8.9571e-05, 1.0565e-05, 2.1242e-05, 4.6139e-05,\n",
       "         6.3608e-07, 1.2799e-06, 1.0826e-05, 2.2847e-07, 4.7528e-07, 7.4051e-07,\n",
       "         5.8515e-09, 1.2348e-08, 3.4008e-09, 8.5270e-07, 7.6764e-08, 3.2512e-05,\n",
       "         1.5432e-07, 8.7729e-05, 2.0364e-08, 1.4544e-08, 2.3642e-07, 2.5262e-06,\n",
       "         1.8080e-05, 2.5129e-06, 1.7772e-07, 5.4792e-07, 6.8439e-06, 3.0746e-05,\n",
       "         3.3300e-06, 1.6575e-06, 1.2451e-05, 3.9640e-07, 1.2695e-06, 5.1143e-05,\n",
       "         2.9112e-02, 1.4272e-06, 1.2592e-08, 1.5460e-07, 1.0697e-06, 1.1292e-07,\n",
       "         3.7105e-07, 2.3269e-06, 8.3741e-07, 1.0309e-07, 3.9505e-06, 1.0251e-06,\n",
       "         1.0573e-05, 1.3108e-06, 7.7768e-07, 2.4697e-06, 1.7438e-06, 4.8391e-06,\n",
       "         1.5591e-08, 2.4116e-04, 1.2918e-06, 8.7290e-04, 1.4009e-04, 1.5106e-05,\n",
       "         2.8439e-04, 5.9367e-04, 4.7409e-04, 3.3997e-05, 3.0472e-06, 1.0037e-05,\n",
       "         1.4335e-07, 1.3484e-05, 5.6226e-06, 2.7065e-06, 1.1923e-06, 1.3963e-06,\n",
       "         9.7222e-07, 8.3866e-08, 2.2473e-05, 6.7896e-05, 6.1336e-06, 7.0915e-08,\n",
       "         1.0052e-04, 6.3700e-06, 7.7174e-05, 4.4832e-06, 5.2059e-05, 1.0967e-03,\n",
       "         8.7404e-04, 2.2882e-06, 1.7126e-09, 6.3315e-08, 5.4462e-05, 2.2896e-06,\n",
       "         1.4878e-08, 8.5016e-07, 1.5922e-05, 1.0264e-06, 2.1317e-04, 1.6401e-03,\n",
       "         2.1485e-07, 9.8542e-07, 1.7067e-07, 7.9247e-08, 2.8297e-06, 9.7764e-07,\n",
       "         8.5496e-08, 1.4614e-04, 5.7326e-07, 4.6777e-08, 7.5469e-08, 3.9118e-04,\n",
       "         1.2442e-05, 7.2722e-06, 4.7482e-07, 3.4436e-07, 5.9354e-08, 5.9269e-05,\n",
       "         9.0059e-05, 1.5702e-07, 6.8392e-05, 7.7013e-04, 5.8562e-06, 4.6547e-08,\n",
       "         3.0472e-06, 7.8888e-08, 1.2927e-06, 7.5960e-07, 3.3090e-05, 1.0424e-07,\n",
       "         3.0879e-07, 4.3114e-07, 1.5503e-07, 3.2046e-05, 1.5436e-06, 2.9907e-07,\n",
       "         1.0157e-07, 6.8466e-07, 2.7055e-06, 7.5897e-06, 6.2625e-05, 6.7342e-05,\n",
       "         4.2738e-07, 7.9724e-07, 1.7822e-08, 1.2454e-05, 7.9210e-10, 1.0197e-01,\n",
       "         1.2343e-04, 6.8015e-07, 4.8731e-05, 3.3589e-05, 3.4377e-05, 7.6979e-06,\n",
       "         3.9647e-05, 7.2238e-05, 1.0586e-05, 1.3225e-06, 6.8315e-05, 9.2095e-06,\n",
       "         1.4414e-05, 2.9286e-05, 6.1392e-05, 4.9799e-05, 2.7924e-07, 1.3179e-08,\n",
       "         2.2551e-06, 8.4381e-05, 1.1402e-04, 1.5171e-03, 4.1764e-06, 3.7580e-04,\n",
       "         5.8517e-07, 6.4136e-06, 5.5583e-05, 1.4539e-05, 7.9493e-04, 1.6005e-08,\n",
       "         1.7818e-06, 1.5368e-06, 9.6051e-03, 4.8376e-05, 5.1877e-07, 2.9837e-06,\n",
       "         1.3853e-02, 2.5517e-05, 3.6500e-02, 3.4849e-05, 5.0176e-07, 2.9918e-04,\n",
       "         1.4754e-03, 3.3896e-06, 7.8914e-07, 1.2797e-07, 6.2322e-05, 2.5472e-05,\n",
       "         1.2367e-04, 1.1386e-07, 8.2407e-08, 3.7544e-06, 6.9968e-06, 1.0083e-07,\n",
       "         8.2380e-05, 3.4028e-06, 3.9521e-06, 7.5009e-08, 1.5105e-04],\n",
       "        grad_fn=<SqueezeBackward1>),\n",
       " torch.Size([527]))"
      ]
     },
     "execution_count": 5,
     "metadata": {},
     "output_type": "execute_result"
    }
   ],
   "source": [
    "wavpath = '/home/zhangjunbo/src/CED/resources/JeD5V5aaaoI_931_932.wav'\n",
    "wave, _ = torchaudio.load(wavpath)\n",
    "wave = wave.to(DEVICE)\n",
    "\n",
    "output = model(wave).squeeze(0)\n",
    "output, output.shape"
   ]
  },
  {
   "cell_type": "code",
   "execution_count": 6,
   "metadata": {},
   "outputs": [],
   "source": [
    "import pandas as pd\n",
    "\n",
    "label_maps = pd.read_csv('http://storage.googleapis.com/us_audioset/youtube_corpus/v1/csv/class_labels_indices.csv').set_index(\n",
    "            'index')['display_name'].to_dict()"
   ]
  },
  {
   "cell_type": "code",
   "execution_count": 7,
   "metadata": {},
   "outputs": [
    {
     "name": "stdout",
     "output_type": "stream",
     "text": [
      "Topk-1 Finger snapping                0.8888\n",
      "Topk-2 Slap, smack                    0.1020\n",
      "Topk-3 Inside, small room             0.0365\n"
     ]
    }
   ],
   "source": [
    "topk = 3\n",
    "\n",
    "for k, (prob, label) in enumerate(zip(*output.topk(topk))):\n",
    "    lab_idx = label.item()\n",
    "    label_name = label_maps[lab_idx]\n",
    "    print(f\"Topk-{k+1} {label_name:<30} {prob:.4f}\")"
   ]
  }
 ],
 "metadata": {
  "kernelspec": {
   "display_name": "venv",
   "language": "python",
   "name": "python3"
  },
  "language_info": {
   "codemirror_mode": {
    "name": "ipython",
    "version": 3
   },
   "file_extension": ".py",
   "mimetype": "text/x-python",
   "name": "python",
   "nbconvert_exporter": "python",
   "pygments_lexer": "ipython3",
   "version": "3.11.2"
  }
 },
 "nbformat": 4,
 "nbformat_minor": 2
}

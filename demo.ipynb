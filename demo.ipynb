{
 "cells": [
  {
   "cell_type": "markdown",
   "metadata": {},
   "source": [
    "此 ipynb 文件只用于内部演示，往 GitHub 提 PR 前会删除。"
   ]
  },
  {
   "cell_type": "code",
   "execution_count": 1,
   "metadata": {},
   "outputs": [],
   "source": [
    "model_name = 'ced-mini'  # ['ced-tiny', 'ced-mini', 'ced-small', 'ced-base']"
   ]
  },
  {
   "cell_type": "code",
   "execution_count": 2,
   "metadata": {},
   "outputs": [
    {
     "name": "stderr",
     "output_type": "stream",
     "text": [
      "Saving model ced-mini to /home/zhangjunbo/sandbox/ced-mini\n",
      "No model name specified for CedConfig, use default settings.\n",
      "Configuration saved in /home/zhangjunbo/sandbox/ced-mini/config.json\n",
      "Model weights saved in /home/zhangjunbo/sandbox/ced-mini/pytorch_model.bin\n"
     ]
    }
   ],
   "source": [
    "# Convert checkpoint from original CED to 🤗 Transformers format\n",
    "from transformers.models.ced.convert_ced_original_to_pytorch import convert_ced_checkpoint\n",
    "\n",
    "model_saved_path = f'/home/zhangjunbo/sandbox/{model_name}'\n",
    "convert_ced_checkpoint(model_name, model_saved_path)"
   ]
  },
  {
   "cell_type": "code",
   "execution_count": 3,
   "metadata": {},
   "outputs": [],
   "source": [
    "import torch\n",
    "import torchaudio\n",
    "\n",
    "from transformers import CedConfig, CedForAudioClassification"
   ]
  },
  {
   "cell_type": "code",
   "execution_count": 4,
   "metadata": {},
   "outputs": [
    {
     "name": "stderr",
     "output_type": "stream",
     "text": [
      "loading configuration file /home/zhangjunbo/sandbox/ced-mini/config.json\n",
      "No model name specified for CedConfig, use default settings.\n",
      "No model name specified for CedConfig, use default settings.\n",
      "Model config CedConfig {\n",
      "  \"architectures\": [\n",
      "    \"CedForAudioClassification\"\n",
      "  ],\n",
      "  \"attn_drop_rate\": 0.0,\n",
      "  \"center\": true,\n",
      "  \"depth\": 12,\n",
      "  \"drop_path_rate\": 0.0,\n",
      "  \"drop_rate\": 0.0,\n",
      "  \"embed_dim\": 256,\n",
      "  \"eval_avg\": \"mean\",\n",
      "  \"f_max\": 8000,\n",
      "  \"f_min\": 0,\n",
      "  \"freq_patch_out\": null,\n",
      "  \"hop_size\": 160,\n",
      "  \"init_values\": null,\n",
      "  \"mlp_ratio\": 4,\n",
      "  \"n_fft\": 512,\n",
      "  \"n_mels\": 64,\n",
      "  \"num_heads\": 4,\n",
      "  \"outputdim\": 527,\n",
      "  \"pad_last\": true,\n",
      "  \"patch_size\": 16,\n",
      "  \"patch_stride\": 16,\n",
      "  \"pooling\": \"mean\",\n",
      "  \"qkv_bias\": true,\n",
      "  \"target_length\": 1012,\n",
      "  \"time_patch_out\": null,\n",
      "  \"torch_dtype\": \"float32\",\n",
      "  \"transformers_version\": \"4.34.0.dev0\",\n",
      "  \"win_size\": 512\n",
      "}\n",
      "\n",
      "loading weights file /home/zhangjunbo/sandbox/ced-mini/pytorch_model.bin\n",
      "All model checkpoint weights were used when initializing CedForAudioClassification.\n",
      "\n",
      "All the weights of CedForAudioClassification were initialized from the model checkpoint at /home/zhangjunbo/sandbox/ced-mini.\n",
      "If your task is similar to the task the model of the checkpoint was trained on, you can already use CedForAudioClassification for predictions without further training.\n"
     ]
    }
   ],
   "source": [
    "config = CedConfig(model_name)\n",
    "\n",
    "DEVICE = torch.device('cpu' if not torch.cuda.is_available() else 'cuda')\n",
    "\n",
    "model = CedForAudioClassification(config).from_pretrained(model_saved_path).to(DEVICE).eval()"
   ]
  },
  {
   "cell_type": "code",
   "execution_count": 5,
   "metadata": {},
   "outputs": [
    {
     "data": {
      "text/plain": [
       "(tensor([4.4041e-04, 1.1244e-06, 3.7792e-08, 1.3794e-06, 1.1796e-09, 6.1123e-08,\n",
       "         1.2690e-07, 6.3050e-07, 6.6793e-08, 6.9742e-07, 3.3462e-08, 2.5831e-08,\n",
       "         3.8196e-08, 2.6284e-08, 4.9164e-07, 4.1181e-06, 7.8783e-07, 2.7245e-09,\n",
       "         2.9222e-08, 3.3038e-08, 3.0569e-09, 9.9292e-08, 6.9381e-10, 2.7488e-10,\n",
       "         3.5132e-08, 3.0729e-08, 4.4674e-06, 3.2543e-06, 1.2355e-06, 6.2254e-08,\n",
       "         6.4723e-07, 3.5100e-07, 2.0798e-07, 5.8442e-07, 3.2303e-07, 8.2574e-07,\n",
       "         2.0684e-07, 4.4407e-07, 1.0994e-06, 7.7535e-06, 1.0299e-04, 5.2003e-06,\n",
       "         4.1053e-08, 1.0067e-06, 1.9600e-07, 4.6514e-08, 1.4247e-07, 1.7728e-08,\n",
       "         1.6261e-08, 1.2230e-08, 2.9457e-06, 5.5696e-08, 7.0292e-07, 5.2810e-07,\n",
       "         4.9031e-05, 2.1013e-06, 2.9222e-10, 3.0011e-07, 2.4952e-07, 8.2705e-08,\n",
       "         1.9196e-06, 1.6893e-03, 9.0684e-01, 6.1849e-03, 7.0326e-07, 1.1563e-07,\n",
       "         2.7727e-08, 8.3572e-05, 6.4359e-10, 9.9029e-07, 1.7471e-09, 2.0200e-09,\n",
       "         1.3394e-03, 4.7462e-04, 1.8421e-05, 5.3566e-07, 6.8892e-08, 7.3870e-09,\n",
       "         1.0415e-06, 2.9036e-07, 5.1658e-08, 9.3513e-07, 2.0275e-06, 2.6577e-08,\n",
       "         1.1736e-06, 8.7425e-10, 3.8260e-08, 7.9826e-07, 4.1803e-07, 7.9756e-08,\n",
       "         2.0387e-09, 4.1898e-10, 1.4032e-07, 1.1882e-06, 7.5315e-07, 1.9584e-08,\n",
       "         6.5950e-10, 1.2146e-09, 3.6372e-07, 1.1582e-07, 2.7224e-09, 1.0840e-09,\n",
       "         3.0364e-07, 1.4197e-07, 6.8813e-07, 1.0025e-06, 4.3984e-09, 4.3725e-09,\n",
       "         3.2290e-07, 1.1668e-07, 8.8132e-07, 1.1586e-03, 1.1169e-04, 6.3981e-05,\n",
       "         5.9657e-08, 2.2836e-06, 7.3634e-07, 2.4523e-07, 5.3515e-08, 1.0453e-07,\n",
       "         1.0183e-09, 4.4157e-07, 3.8060e-08, 1.5677e-05, 7.6266e-06, 9.8397e-05,\n",
       "         2.1759e-04, 8.5715e-06, 1.2436e-05, 5.3078e-06, 3.3374e-09, 1.4674e-06,\n",
       "         1.1641e-05, 1.9334e-06, 1.7868e-06, 2.2558e-05, 8.7276e-08, 2.6788e-02,\n",
       "         7.7156e-03, 9.2295e-06, 2.7916e-05, 6.4955e-08, 2.3833e-07, 4.6712e-08,\n",
       "         4.1921e-07, 4.5855e-07, 8.0471e-08, 4.7868e-07, 2.7279e-07, 1.0835e-06,\n",
       "         8.1426e-07, 2.7991e-06, 1.2466e-05, 5.8777e-06, 2.2951e-07, 4.3732e-06,\n",
       "         2.7990e-06, 3.2103e-07, 1.9323e-04, 1.7437e-05, 4.9790e-08, 8.9427e-03,\n",
       "         5.5516e-05, 5.3815e-03, 1.3792e-03, 7.9493e-06, 4.3613e-07, 1.6001e-06,\n",
       "         1.8348e-05, 1.9250e-06, 3.6622e-06, 1.0411e-06, 2.8462e-07, 2.4021e-02,\n",
       "         7.6398e-07, 3.4052e-07, 2.1202e-05, 8.0476e-07, 7.1624e-06, 2.5656e-04,\n",
       "         1.0295e-03, 4.8257e-04, 4.7196e-06, 2.4424e-06, 2.8277e-06, 9.0037e-06,\n",
       "         1.5384e-07, 1.1774e-06, 3.7286e-07, 1.3738e-06, 7.0210e-09, 1.8222e-06,\n",
       "         1.0189e-05, 1.4408e-06, 5.2069e-07, 4.2325e-06, 7.5655e-07, 8.6399e-08,\n",
       "         1.9250e-07, 1.5162e-07, 5.7017e-04, 2.1585e-06, 4.4684e-06, 5.3232e-07,\n",
       "         2.0156e-05, 1.1217e-04, 4.0136e-05, 4.2073e-07, 4.6405e-07, 1.3232e-06,\n",
       "         6.3327e-09, 5.3829e-07, 4.6792e-08, 3.7364e-05, 1.9313e-06, 2.2392e-05,\n",
       "         5.8114e-08, 1.8328e-06, 2.9536e-04, 2.9835e-05, 3.4361e-06, 6.5663e-07,\n",
       "         1.3906e-07, 1.3836e-06, 5.6078e-06, 2.3076e-06, 2.3608e-07, 1.4843e-07,\n",
       "         2.8457e-06, 1.4730e-07, 4.2509e-08, 5.8110e-09, 2.6769e-07, 4.5296e-07,\n",
       "         7.6803e-07, 1.8491e-07, 2.2649e-08, 7.1831e-06, 1.5769e-06, 1.2832e-05,\n",
       "         9.5161e-07, 5.3597e-07, 3.5316e-07, 5.3381e-08, 2.2511e-08, 9.4919e-08,\n",
       "         7.4946e-07, 1.8261e-07, 1.9488e-07, 8.3860e-08, 1.8890e-06, 1.3969e-07,\n",
       "         5.8135e-07, 1.2599e-08, 6.8975e-05, 9.7999e-06, 2.7656e-08, 2.7460e-08,\n",
       "         3.4519e-06, 4.6326e-06, 1.2526e-07, 3.2995e-07, 2.4376e-08, 8.3127e-08,\n",
       "         2.2416e-06, 1.5255e-08, 1.3356e-07, 2.4978e-09, 2.7004e-07, 1.9801e-06,\n",
       "         6.9123e-08, 2.0790e-06, 3.1347e-07, 2.2177e-06, 6.0752e-09, 4.5196e-09,\n",
       "         1.2238e-09, 7.3593e-08, 5.2426e-08, 2.9180e-08, 1.4693e-09, 5.9734e-07,\n",
       "         2.6696e-07, 3.7438e-05, 5.0681e-06, 1.6550e-05, 2.8048e-07, 2.0722e-07,\n",
       "         3.3264e-06, 2.8110e-05, 1.2710e-05, 5.4802e-05, 6.3731e-08, 3.4288e-07,\n",
       "         1.3272e-05, 8.1615e-06, 5.0885e-07, 4.4676e-07, 2.4626e-03, 5.7306e-05,\n",
       "         1.2322e-03, 2.4524e-05, 1.8199e-07, 2.4232e-07, 2.0494e-06, 5.0242e-06,\n",
       "         8.4334e-07, 1.9838e-05, 3.7947e-07, 5.5999e-09, 2.3566e-07, 1.1513e-08,\n",
       "         1.3397e-07, 4.9011e-08, 6.0927e-07, 1.2106e-07, 2.4204e-06, 1.7831e-06,\n",
       "         4.0897e-08, 7.9600e-08, 2.2916e-07, 5.8347e-06, 1.1893e-07, 1.7565e-08,\n",
       "         4.5901e-09, 8.6473e-08, 4.5636e-07, 2.7939e-07, 5.8728e-07, 2.0345e-06,\n",
       "         8.6412e-08, 1.8033e-07, 3.1194e-07, 6.0786e-09, 3.3833e-08, 5.7102e-07,\n",
       "         1.9123e-08, 2.7501e-07, 2.3181e-08, 7.5769e-06, 5.5434e-08, 2.7759e-07,\n",
       "         3.7467e-09, 1.1396e-05, 7.5710e-08, 7.3428e-10, 2.3591e-07, 1.9063e-08,\n",
       "         2.4411e-07, 3.4904e-07, 6.4230e-09, 6.6513e-08, 4.1270e-07, 4.0304e-07,\n",
       "         5.7347e-07, 9.1941e-09, 1.5559e-07, 2.5639e-07, 2.4426e-08, 4.8485e-06,\n",
       "         1.3474e-02, 8.3747e-08, 6.3330e-08, 6.4214e-07, 1.7578e-07, 9.5209e-09,\n",
       "         1.0936e-06, 1.8764e-06, 1.5685e-07, 2.3833e-07, 5.4997e-07, 1.5376e-07,\n",
       "         6.9790e-06, 4.8527e-06, 2.8811e-07, 3.0554e-08, 7.2760e-10, 2.7567e-07,\n",
       "         7.6105e-09, 3.8619e-05, 3.1081e-07, 2.2942e-03, 7.2732e-08, 9.5656e-06,\n",
       "         4.3440e-04, 1.4829e-04, 9.9651e-04, 5.4088e-05, 5.0229e-07, 3.6412e-08,\n",
       "         5.6264e-09, 2.1622e-08, 1.4739e-06, 5.9111e-07, 3.7943e-07, 8.2073e-07,\n",
       "         2.5712e-07, 6.4547e-09, 3.9293e-06, 1.0626e-05, 1.0133e-06, 8.2306e-08,\n",
       "         3.4924e-05, 1.5359e-06, 6.4339e-06, 2.5539e-07, 4.3147e-05, 1.6483e-02,\n",
       "         1.4356e-02, 7.4871e-07, 1.2110e-09, 8.3931e-09, 1.0293e-06, 1.9757e-06,\n",
       "         4.9584e-08, 5.5182e-09, 2.5282e-06, 1.5504e-07, 1.2736e-05, 2.1661e-05,\n",
       "         8.0657e-08, 1.3120e-06, 1.1411e-06, 1.0436e-06, 1.6757e-07, 2.7732e-08,\n",
       "         2.5061e-08, 9.6805e-06, 2.0840e-07, 1.0040e-07, 2.9348e-08, 2.9644e-05,\n",
       "         1.0138e-07, 6.7357e-07, 8.8516e-08, 4.2145e-07, 5.4103e-08, 5.3981e-05,\n",
       "         1.0409e-05, 1.4061e-08, 3.7878e-05, 1.0641e-04, 7.9315e-07, 3.8499e-09,\n",
       "         1.6584e-07, 3.1601e-08, 4.2591e-07, 2.6415e-07, 2.9463e-06, 3.7297e-09,\n",
       "         5.8674e-09, 4.4026e-07, 1.6457e-08, 2.7331e-06, 2.4980e-07, 2.1532e-07,\n",
       "         1.0837e-08, 4.6059e-07, 1.3602e-07, 9.4532e-08, 4.2456e-06, 3.6065e-06,\n",
       "         2.0027e-06, 1.6559e-06, 7.7725e-08, 1.9995e-06, 9.2289e-08, 6.0958e-02,\n",
       "         2.5855e-05, 8.2483e-08, 4.6697e-07, 4.8602e-06, 3.8652e-05, 1.0828e-06,\n",
       "         6.1940e-05, 6.4309e-05, 1.3764e-04, 6.8722e-07, 1.1004e-04, 1.5544e-05,\n",
       "         3.6799e-06, 9.3733e-06, 2.0870e-04, 7.5639e-06, 2.8282e-08, 5.2131e-10,\n",
       "         3.5579e-07, 1.2500e-03, 1.6957e-06, 1.3386e-04, 1.9825e-06, 2.2436e-03,\n",
       "         2.1291e-08, 1.3794e-06, 9.5212e-05, 1.0604e-05, 4.4679e-06, 3.1538e-07,\n",
       "         4.0867e-06, 1.0312e-06, 8.3720e-03, 2.9576e-05, 1.6203e-05, 7.7119e-06,\n",
       "         1.9438e-02, 1.3056e-06, 4.2623e-02, 6.9491e-06, 6.8296e-10, 8.5952e-07,\n",
       "         1.1182e-04, 6.6911e-07, 2.1672e-07, 1.1536e-07, 2.5807e-06, 7.7717e-05,\n",
       "         1.6986e-07, 1.5590e-07, 6.7835e-07, 7.6367e-06, 2.3399e-06, 2.3753e-06,\n",
       "         7.9461e-07, 9.7595e-08, 4.0674e-06, 7.8204e-07, 4.0486e-07],\n",
       "        grad_fn=<SqueezeBackward1>),\n",
       " torch.Size([527]))"
      ]
     },
     "execution_count": 5,
     "metadata": {},
     "output_type": "execute_result"
    }
   ],
   "source": [
    "wavpath = '/home/zhangjunbo/src/CED/resources/JeD5V5aaaoI_931_932.wav'\n",
    "wave, _ = torchaudio.load(wavpath)\n",
    "wave = wave.to(DEVICE)\n",
    "\n",
    "output = model(wave).squeeze(0)\n",
    "output, output.shape"
   ]
  },
  {
   "cell_type": "code",
   "execution_count": 6,
   "metadata": {},
   "outputs": [],
   "source": [
    "import pandas as pd\n",
    "\n",
    "label_maps = pd.read_csv('http://storage.googleapis.com/us_audioset/youtube_corpus/v1/csv/class_labels_indices.csv').set_index('index')['display_name'].to_dict()"
   ]
  },
  {
   "cell_type": "code",
   "execution_count": 7,
   "metadata": {},
   "outputs": [
    {
     "name": "stdout",
     "output_type": "stream",
     "text": [
      "Topk-1 Finger snapping                0.9068\n",
      "Topk-2 Slap, smack                    0.0610\n",
      "Topk-3 Inside, small room             0.0426\n"
     ]
    }
   ],
   "source": [
    "topk = 3\n",
    "\n",
    "for k, (prob, label) in enumerate(zip(*output.topk(topk))):\n",
    "    lab_idx = label.item()\n",
    "    label_name = label_maps[lab_idx]\n",
    "    print(f\"Topk-{k+1} {label_name:<30} {prob:.4f}\")"
   ]
  }
 ],
 "metadata": {
  "kernelspec": {
   "display_name": "venv",
   "language": "python",
   "name": "python3"
  },
  "language_info": {
   "codemirror_mode": {
    "name": "ipython",
    "version": 3
   },
   "file_extension": ".py",
   "mimetype": "text/x-python",
   "name": "python",
   "nbconvert_exporter": "python",
   "pygments_lexer": "ipython3",
   "version": "3.11.2"
  }
 },
 "nbformat": 4,
 "nbformat_minor": 2
}

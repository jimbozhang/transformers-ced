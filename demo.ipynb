{
 "cells": [
  {
   "cell_type": "markdown",
   "metadata": {},
   "source": [
    "此 ipynb 文件只用于内部演示，往 GitHub 提 PR 前会删除。"
   ]
  },
  {
   "cell_type": "code",
   "execution_count": 1,
   "metadata": {},
   "outputs": [],
   "source": [
    "model_name = 'ced-mini'  # ['ced-tiny', 'ced-mini', 'ced-small', 'ced-base']\n",
    "model_saved_path = f'/home/zhangjunbo/sandbox/{model_name}'"
   ]
  },
  {
   "cell_type": "code",
   "execution_count": 2,
   "metadata": {},
   "outputs": [
    {
     "name": "stderr",
     "output_type": "stream",
     "text": [
      "Saving model ced-mini to /home/zhangjunbo/sandbox/ced-mini\n",
      "No model name specified for CedConfig, use default settings.\n",
      "Configuration saved in /home/zhangjunbo/sandbox/ced-mini/config.json\n",
      "Model weights saved in /home/zhangjunbo/sandbox/ced-mini/pytorch_model.bin\n",
      "Feature extractor saved in /home/zhangjunbo/sandbox/ced-mini/preprocessor_config.json\n"
     ]
    }
   ],
   "source": [
    "# Convert checkpoint from original CED to 🤗 Transformers format\n",
    "from transformers.models.ced.convert_ced_original_to_pytorch import convert_ced_checkpoint\n",
    "\n",
    "convert_ced_checkpoint(model_name, model_saved_path)"
   ]
  },
  {
   "cell_type": "code",
   "execution_count": 3,
   "metadata": {},
   "outputs": [],
   "source": [
    "# TODO: support AutoModel and AutoFeatureExtractor\n",
    "\n",
    "# from transformers import AutoModelForAudioFrameClassification, AutoFeatureExtractor\n",
    "# model = AutoModelForAudioFrameClassification.from_pretrained(model_saved_path)\n",
    "# feature_extractor = AutoFeatureExtractor.from_pretrained(model_saved_path)"
   ]
  },
  {
   "cell_type": "code",
   "execution_count": null,
   "metadata": {},
   "outputs": [],
   "source": [
    "from transformers import CedConfig, CedForAudioClassification, CedFeatureExtractor\n",
    "\n",
    "front_end = CedFeatureExtractor()\n",
    "model = CedForAudioClassification(CedConfig(model_name)).from_pretrained(model_saved_path).eval()"
   ]
  },
  {
   "cell_type": "code",
   "execution_count": 5,
   "metadata": {},
   "outputs": [],
   "source": [
    "import torchaudio\n",
    "\n",
    "wavpath = '/home/zhangjunbo/src/CED/resources/JeD5V5aaaoI_931_932.wav'\n",
    "wave, _ = torchaudio.load(wavpath)"
   ]
  },
  {
   "cell_type": "code",
   "execution_count": 6,
   "metadata": {},
   "outputs": [],
   "source": [
    "feature = front_end(wave)[\"input_values\"]\n",
    "output = model(feature).squeeze(0)"
   ]
  },
  {
   "cell_type": "code",
   "execution_count": 7,
   "metadata": {},
   "outputs": [
    {
     "name": "stdout",
     "output_type": "stream",
     "text": [
      "Topk-1 Finger snapping                0.9068\n",
      "Topk-2 Slap, smack                    0.0610\n",
      "Topk-3 Inside, small room             0.0426\n"
     ]
    }
   ],
   "source": [
    "import pandas as pd\n",
    "\n",
    "label_maps = pd.read_csv('http://storage.googleapis.com/us_audioset/youtube_corpus/v1/csv/class_labels_indices.csv').set_index('index')['display_name'].to_dict()\n",
    "\n",
    "topk = 3\n",
    "\n",
    "for k, (prob, label) in enumerate(zip(*output.topk(topk))):\n",
    "    lab_idx = label.item()\n",
    "    label_name = label_maps[lab_idx]\n",
    "    print(f\"Topk-{k+1} {label_name:<30} {prob:.4f}\")"
   ]
  }
 ],
 "metadata": {
  "kernelspec": {
   "display_name": "venv",
   "language": "python",
   "name": "python3"
  },
  "language_info": {
   "codemirror_mode": {
    "name": "ipython",
    "version": 3
   },
   "file_extension": ".py",
   "mimetype": "text/x-python",
   "name": "python",
   "nbconvert_exporter": "python",
   "pygments_lexer": "ipython3",
   "version": "3.11.2"
  }
 },
 "nbformat": 4,
 "nbformat_minor": 2
}
